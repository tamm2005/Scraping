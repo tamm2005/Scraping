{
 "cells": [
  {
   "cell_type": "code",
   "execution_count": 144,
   "metadata": {},
   "outputs": [],
   "source": [
    "from urllib.request import Request, urlopen\n",
    "import requests\n",
    "from bs4 import BeautifulSoup\n",
    "import re\n",
    "import shutil"
   ]
  },
  {
   "cell_type": "code",
   "execution_count": 149,
   "metadata": {},
   "outputs": [],
   "source": [
    "def getHtml(url):\n",
    "    for i in range(1000):\n",
    "        #headers={'User-Agent':'Mozilla/5.0 (Windows NT 10.0; Win64; x64; rv:60.0) Gecko/20100101 Firefox/60.0'}\n",
    "        #page1=urllib.request.Request(url,headers=headers)\n",
    "        #page=urllib.request.urlopen(page1)\n",
    "\n",
    "        req = Request(url, headers={'User-Agent': 'Mozilla/5.0'})\n",
    "        html= urlopen(req).read()\n",
    "        pat = re.compile(rb'<img[^>]*src=\"([^\"]+)')\n",
    "        img = pat.findall(html)\n",
    "        img = img[0]\n",
    "        img = img.decode('utf-8')\n",
    "        r = requests.get(url+img,stream=True, headers={'User-agent': 'Mozilla/5.0'})\n",
    "        with open(\"img\"+str(i)+\".png\", 'wb') as f:\n",
    "            r.raw.decode_content = True\n",
    "            shutil.copyfileobj(r.raw, f)\n",
    "        #urllib.request.urlretrieve(url+img)\n",
    "        #urllib.urlretrieve(img,'1.jpg')\n",
    "        #output = open(\"file01.jpg\",\"wb\")\n",
    "        #output.write(img[0])\n",
    "        #output.close()"
   ]
  },
  {
   "cell_type": "code",
   "execution_count": 150,
   "metadata": {},
   "outputs": [],
   "source": [
    "getHtml('https://thispersondoesnotexist.com/')"
   ]
  },
  {
   "cell_type": "code",
   "execution_count": null,
   "metadata": {},
   "outputs": [],
   "source": []
  }
 ],
 "metadata": {
  "kernelspec": {
   "display_name": "Python 3",
   "language": "python",
   "name": "python3"
  },
  "language_info": {
   "codemirror_mode": {
    "name": "ipython",
    "version": 3
   },
   "file_extension": ".py",
   "mimetype": "text/x-python",
   "name": "python",
   "nbconvert_exporter": "python",
   "pygments_lexer": "ipython3",
   "version": "3.7.6"
  }
 },
 "nbformat": 4,
 "nbformat_minor": 4
}
